{
 "cells": [
  {
   "cell_type": "code",
   "execution_count": 4,
   "metadata": {},
   "outputs": [],
   "source": [
    "from websocket import WebSocketApp\n",
    "import cv2\n",
    "import threading\n",
    "import os\n",
    "import socket\n",
    "import time\n",
    "from imutils.video import VideoStream\n",
    "import imagezmq\n",
    "import re"
   ]
  },
  {
   "cell_type": "code",
   "execution_count": 38,
   "metadata": {},
   "outputs": [],
   "source": [
    "msg = \"/pi m 123 4561\""
   ]
  },
  {
   "cell_type": "code",
   "execution_count": 39,
   "metadata": {},
   "outputs": [
    {
     "name": "stdout",
     "output_type": "stream",
     "text": [
      "[123, 4561]\n"
     ]
    }
   ],
   "source": [
    "def motor_commandReceiver(msg):\n",
    "    if re.match('/pi m', msg):\n",
    "        m3 = re.split(' ', msg)\n",
    "        print(list(map(int, m3[-2:])))\n",
    "motor_commandReceiver(msg)"
   ]
  },
  {
   "cell_type": "code",
   "execution_count": 40,
   "metadata": {},
   "outputs": [
    {
     "name": "stdout",
     "output_type": "stream",
     "text": [
      "[123, 4561]\n"
     ]
    }
   ],
   "source": [
    "print(list(map(int, re.split(' ', msg)[-2:])))"
   ]
  }
 ],
 "metadata": {
  "kernelspec": {
   "display_name": "base",
   "language": "python",
   "name": "python3"
  },
  "language_info": {
   "codemirror_mode": {
    "name": "ipython",
    "version": 3
   },
   "file_extension": ".py",
   "mimetype": "text/x-python",
   "name": "python",
   "nbconvert_exporter": "python",
   "pygments_lexer": "ipython3",
   "version": "3.9.13"
  },
  "orig_nbformat": 4,
  "vscode": {
   "interpreter": {
    "hash": "7600fbc6fd439d66cebe58d8829cae093d4fbb11408f269d0e18344e38b730a5"
   }
  }
 },
 "nbformat": 4,
 "nbformat_minor": 2
}
